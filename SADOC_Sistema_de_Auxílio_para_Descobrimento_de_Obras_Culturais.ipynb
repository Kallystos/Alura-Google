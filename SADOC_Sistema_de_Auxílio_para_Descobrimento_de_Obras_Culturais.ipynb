{
  "nbformat": 4,
  "nbformat_minor": 0,
  "metadata": {
    "colab": {
      "provenance": [],
      "include_colab_link": true
    },
    "kernelspec": {
      "name": "python3",
      "display_name": "Python 3"
    },
    "language_info": {
      "name": "python"
    }
  },
  "cells": [
    {
      "cell_type": "markdown",
      "metadata": {
        "id": "view-in-github",
        "colab_type": "text"
      },
      "source": [
        "<a href=\"https://colab.research.google.com/github/Kallystos/Alura-Google/blob/main/SADOC_Sistema_de_Aux%C3%ADlio_para_Descobrimento_de_Obras_Culturais.ipynb\" target=\"_parent\"><img src=\"https://colab.research.google.com/assets/colab-badge.svg\" alt=\"Open In Colab\"/></a>"
      ]
    },
    {
      "cell_type": "code",
      "source": [
        "# Instalar Framework ADK de agentes do Google ################################################\n",
        "%pip -q install google-adk"
      ],
      "metadata": {
        "id": "hvZ3UnPI4jhJ"
      },
      "execution_count": 206,
      "outputs": []
    },
    {
      "cell_type": "code",
      "execution_count": 207,
      "metadata": {
        "id": "aePV2bdfDeoW"
      },
      "outputs": [],
      "source": [
        "from google.adk.agents import Agent\n",
        "from google.adk.runners import Runner\n",
        "from google.adk.sessions import InMemorySessionService\n",
        "from google.adk.tools import google_search\n",
        "from google.genai import types  # Para criar conteúdos (Content e Part)\n",
        "from datetime import date\n",
        "import textwrap # Para formatar melhor a saída de texto\n",
        "from IPython.display import display, Markdown # Para exibir texto formatado no Colab\n",
        "import requests # Para fazer requisições HTTP\n",
        "import warnings\n",
        "\n",
        "warnings.filterwarnings(\"ignore\")"
      ]
    },
    {
      "cell_type": "code",
      "source": [
        "# Função auxiliar que envia uma mensagem para um agente via Runner e retorna a resposta final\n",
        "def call_agent(agent: Agent, message_text: str) -> str:\n",
        "    # Cria um serviço de sessão em memória\n",
        "    session_service = InMemorySessionService()\n",
        "    # Cria uma nova sessão (você pode personalizar os IDs conforme necessário)\n",
        "    session = session_service.create_session(app_name=agent.name, user_id=\"user1\", session_id=\"session1\")\n",
        "    # Cria um Runner para o agente\n",
        "    runner = Runner(agent=agent, app_name=agent.name, session_service=session_service)\n",
        "    # Cria o conteúdo da mensagem de entrada\n",
        "    content = types.Content(role=\"user\", parts=[types.Part(text=message_text)])\n",
        "\n",
        "    final_response = \"\"\n",
        "    # Itera assincronamente pelos eventos retornados durante a execução do agente\n",
        "    for event in runner.run(user_id=\"user1\", session_id=\"session1\", new_message=content):\n",
        "        if event.is_final_response():\n",
        "          for part in event.content.parts:\n",
        "            if part.text is not None:\n",
        "              final_response += part.text\n",
        "              final_response += \"\\n\"\n",
        "    return final_response"
      ],
      "metadata": {
        "id": "_xP4lWhsS5ko"
      },
      "execution_count": 208,
      "outputs": []
    },
    {
      "cell_type": "code",
      "source": [
        "# Função auxiliar para exibir texto formatado em Markdown no Colab\n",
        "def to_markdown(text):\n",
        "  text = text.replace('•', '  *')\n",
        "  return Markdown(textwrap.indent(text, '> ', predicate=lambda _: True))"
      ],
      "metadata": {
        "id": "8dosiodaxfFR"
      },
      "execution_count": 209,
      "outputs": []
    },
    {
      "cell_type": "code",
      "source": [
        "##########################################\n",
        "# --- Agente 1: Buscador de Notícias --- #\n",
        "##########################################\n",
        "\n",
        "def agente_buscador(topico, data_de_hoje):\n",
        "    buscador = Agent(\n",
        "        name=\"agente_buscador\",\n",
        "        model=\"gemini-2.0-flash\",\n",
        "        instruction=\"\"\"\n",
        "        Você é um assistente de pesquisa. A sua tarefa é usar a ferramenta de busca do Google (google_search)\n",
        "        para recuperar as últimas notícias de lançamentos muito relevantes sobre o tópico indicado.\n",
        "        Busque notícias no tópico inserido nas áreas de filmes, séries, documentários, livros, música e jogos eletrônicos.\n",
        "        Foque em no máximo 5 notícias relevantes, com base na quantidade e entusiasmo das notícias sobre ele.\n",
        "        \"\"\",\n",
        "        description=\"Agente que busca notícias sobre o tópico indicado no Google\",\n",
        "        tools=[google_search]\n",
        "    )\n",
        "    entrada_do_agente_buscador = f\"Tópico: {topico}\\nData de hoje: {data_de_hoje}\"\n",
        "\n",
        "    lancamentos_buscados = call_agent(buscador, entrada_do_agente_buscador)\n",
        "    return lancamentos_buscados"
      ],
      "metadata": {
        "id": "o8bqIfi_DyH8"
      },
      "execution_count": 210,
      "outputs": []
    },
    {
      "cell_type": "code",
      "source": [
        "######################################\n",
        "# --- Agente 2: Redator do Post --- #\n",
        "######################################\n",
        "def agente_redator(topico, lancamentos_buscados):\n",
        "    redator = Agent(\n",
        "        name=\"agente_redator\",\n",
        "        model=\"gemini-2.0-flash\",\n",
        "        instruction=\"\"\"\n",
        "            Você é um Redator Criativo que responde ajudando seus usuários a encontrarem novas músicas, filmes, etc.\n",
        "            Utilize os lançamentos buscados mais relevantes e, com base nisso, dê até no máximo 10 sugestões de obras sobre o tema indicado.\n",
        "            As sugestões devem conter no mínimo:\n",
        "            Uma de filme, uma de série, uma de documentário, uma de livro, uma de música e uma de games (jogo eletrônico).\n",
        "            A primeira sugestão deve ser a \"sugestão destaque\", ou seja, a mais relevante.\n",
        "            As sugestões devem ser as mais recentes possíveis, de lançamentos.\n",
        "            Caso não haja lançamentos, pode ser o resultado mais relevante.\n",
        "            \"\"\",\n",
        "        description=\"Agente redator de resposta\"\n",
        "    )\n",
        "    entrada_do_agente_redator = f\"Tópico: {topico}\\nSugestões: {lancamentos_buscados}\"\n",
        "    # Executa o agente\n",
        "    rascunho = call_agent(redator, entrada_do_agente_redator)\n",
        "    return rascunho"
      ],
      "metadata": {
        "id": "uOqlg2TRLVh1"
      },
      "execution_count": 211,
      "outputs": []
    },
    {
      "cell_type": "code",
      "source": [
        "##########################################\n",
        "# --- Agente 3: Revisor de Qualidade --- #\n",
        "##########################################\n",
        "def agente_revisor(topico, rascunho_gerado):\n",
        "    revisor = Agent(\n",
        "        name=\"agente_revisor\",\n",
        "        model=\"gemini-2.0-flash\",\n",
        "        instruction=\"\"\"\n",
        "            Você é um Editor e Revisor de Conteúdo meticuloso.\n",
        "            Por ter um público jovem, entre 18 e 30 anos, use um tom de escrita adequado.\n",
        "            Revise o rascunho sobre o tópico indicado, verificando clareza, concisão, correção e tom.\n",
        "            Responda apenas a resposta final diretamente para o usuário sobre o tema abordado.\n",
        "            \"\"\",\n",
        "        description=\"Agente revisor de resposta final para usuário.\"\n",
        "    )\n",
        "    entrada_do_agente_revisor = f\"Tópico: {topico}\\nRascunho: {rascunho_gerado}\"\n",
        "    # Executa o agente\n",
        "    texto_revisado = call_agent(revisor, entrada_do_agente_revisor)\n",
        "    return texto_revisado"
      ],
      "metadata": {
        "id": "_aTb1SdkLeT6"
      },
      "execution_count": 212,
      "outputs": []
    },
    {
      "cell_type": "code",
      "source": [
        "data_de_hoje = date.today().strftime(\"%d/%m/%Y\")\n",
        "\n",
        "print(\"🚀 Iniciando o Sistema de Auxílio para Descobrimento de Obras Culturais com 3 Agentes 🚀\")\n",
        "\n",
        "# --- Obter o Tópico do Usuário ---\n",
        "topico = input(\"❓ Por favor, digite o TÓPICO sobre o qual você deseja receber novidades e dicas culturais: \")\n",
        "\n",
        "# Inserir lógica do sistema de agentes ################################################\n",
        "if not topico:\n",
        "    print(\"Você esqueceu de digitar o tópico!\")\n",
        "else:\n",
        "    print(f\"Maravilha! Então vamos sugerir algumas coisinhas pra você sobre {topico}!\")\n",
        "\n",
        "    texto_revisado = agente_revisor(topico, rascunho)\n",
        "    print(\"\\n--- Resultado do Agente 3 (Revisor): ---\\n\")\n",
        "    display(to_markdown(texto_revisado))\n",
        "    print(\"------------------------------------\")"
      ],
      "metadata": {
        "id": "630ummxz4myx",
        "colab": {
          "base_uri": "https://localhost:8080/",
          "height": 516
        },
        "outputId": "b50c36a0-2228-453c-ed54-1e69f86b446a"
      },
      "execution_count": 213,
      "outputs": [
        {
          "output_type": "stream",
          "name": "stdout",
          "text": [
            "🚀 Iniciando o Sistema de Auxílio para Descobrimento de Obras Culturais com 3 Agentes 🚀\n",
            "❓ Por favor, digite o TÓPICO sobre o qual você deseja receber novidades e dicas culturais: aviação\n",
            "Maravilha! Então vamos sugerir algumas coisinhas pra você sobre aviação!\n",
            "\n",
            "--- Resultado do Agente 3 (Revisor): ---\n",
            "\n"
          ]
        },
        {
          "output_type": "display_data",
          "data": {
            "text/plain": [
              "<IPython.core.display.Markdown object>"
            ],
            "text/markdown": "> E aí, pessoal! Curiosos sobre o mundo da aviação? Preparei uma lista de filmes, séries, livros e outras mídias pra vocês ficarem por dentro das novidades e lançamentos do setor. Confiram só:\n> \n> **Destaque:**\n> \n> *   **Filme:** \"Top Gun 3\" (em produção) - Preparem-se para decolar! A sequência de \"Top Gun\" está vindo aí com novas tecnologias e cenas de voo de tirar o fôlego.\n> \n> **Outras Sugestões:**\n> \n> *   **Série:** \"Mayday! Desastres Aéreos\" (Novos Episódios) - Pra quem curte entender os bastidores dos acidentes aéreos e a segurança da aviação.\n> \n> *   **Documentário:** \"Space X: Retorno ao espaço\" (Netflix, 2022) - Uma missão inspiradora da Space X com a NASA que você não pode perder.\n> \n> *   **Livro:** \"Aeronaves Embraer: Uma História de Sucesso\" de Carlos Henrique Cristilli - Pra conhecer a trajetória da fabricante brasileira Embraer.\n> \n> *   **Música:** \"Learn to Fly\" - Foo Fighters - O clipe dessa música é uma viagem no mundo da aviação!\n> \n> *   **Game:** \"Microsoft Flight Simulator\" (2020) - Pra quem quer pilotar e explorar paisagens incríveis sem sair de casa.\n> \n> *   **Evento:** LABACE (2025) - Fiquem ligados no maior evento de aviação executiva da América Latina.\n> \n> *   **Podcast:** \"Asas e Hélices\" - Notícias, histórias e entrevistas com especialistas do mundo da aviação.\n> \n> *   **Canal do YouTube:** \"Aviation Analysis\" - Análises técnicas de acidentes aéreos e segurança de voo pra você ficar por dentro.\n> \n> *   **Museu:** Museu Aeroespacial (Rio de Janeiro) - Uma coleção de aeronaves e artefatos históricos pra quem ama a história da aviação.\n"
          },
          "metadata": {}
        },
        {
          "output_type": "stream",
          "name": "stdout",
          "text": [
            "------------------------------------\n"
          ]
        }
      ]
    },
    {
      "cell_type": "markdown",
      "source": [],
      "metadata": {
        "id": "yUkXc-M5-fEA"
      }
    }
  ]
}